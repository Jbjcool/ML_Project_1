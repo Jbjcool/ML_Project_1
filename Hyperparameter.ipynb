{
 "cells": [
  {
   "cell_type": "code",
   "execution_count": 1,
   "id": "bb4a033b-22ce-4778-bdbe-c3f77d4b9a17",
   "metadata": {},
   "outputs": [],
   "source": [
    "from azureml.train.hyperdrive import BayesianParameterSampling, BanditPolicy, HyperDriveConfig, PrimaryMetricGoal, RandomParameterSampling\n",
    "from azureml.train.hyperdrive import uniform, choice\n",
    "from azureml.core import ScriptRunConfig, Workspace\n",
    "from azureml.core.experiment import Experiment\n",
    "from sklearn.linear_model import LogisticRegression\n",
    "import pandas\n",
    "import sklearn\n",
    "\n",
    "param_sampling = BayesianParameterSampling( {\n",
    "        \"--max_iter\": uniform(10,30),\n",
    "        \"--C\": choice(0.5, 1, 1.5)\n",
    "    }\n",
    ")   "
   ]
  },
  {
   "cell_type": "code",
   "execution_count": 2,
   "id": "34719849-90f3-4f27-8463-7ee47a8ed69a",
   "metadata": {},
   "outputs": [
    {
     "name": "stdout",
     "output_type": "stream",
     "text": [
      "Requirement already satisfied: scikit-learn in /anaconda/envs/azureml_py38/lib/python3.10/site-packages (1.5.1)\n",
      "Requirement already satisfied: joblib>=1.2.0 in /anaconda/envs/azureml_py38/lib/python3.10/site-packages (from scikit-learn) (1.2.0)\n",
      "Requirement already satisfied: scipy>=1.6.0 in /anaconda/envs/azureml_py38/lib/python3.10/site-packages (from scikit-learn) (1.10.1)\n",
      "Requirement already satisfied: threadpoolctl>=3.1.0 in /anaconda/envs/azureml_py38/lib/python3.10/site-packages (from scikit-learn) (3.5.0)\n",
      "Requirement already satisfied: numpy>=1.19.5 in /anaconda/envs/azureml_py38/lib/python3.10/site-packages (from scikit-learn) (1.23.5)\n",
      "Note: you may need to restart the kernel to use updated packages.\n"
     ]
    }
   ],
   "source": [
    "pip install scikit-learn\n"
   ]
  },
  {
   "cell_type": "code",
   "execution_count": 3,
   "id": "fad1a721-ee58-4aab-a823-a94b1a217815",
   "metadata": {},
   "outputs": [
    {
     "name": "stdout",
     "output_type": "stream",
     "text": [
      "1.5.1\n"
     ]
    }
   ],
   "source": [
    "import sklearn\n",
    "print(sklearn.__version__)\n"
   ]
  },
  {
   "cell_type": "code",
   "execution_count": 4,
   "id": "08e949ba-59de-43a9-b52e-72edb5a546e1",
   "metadata": {},
   "outputs": [],
   "source": [
    "    # Define a Bandit policy\n",
    "policy = BanditPolicy(\n",
    "    slack_factor=0.1,  # The slack factor to allow for some variability\n",
    "    evaluation_interval=1,  # How often to evaluate the performance\n",
    "    delay_evaluation=5  # Number of iterations to wait before evaluating\n",
    ")"
   ]
  },
  {
   "cell_type": "code",
   "execution_count": 5,
   "id": "af453434-f919-4699-95f3-335047c7bea9",
   "metadata": {},
   "outputs": [],
   "source": [
    "est = ScriptRunConfig(source_directory='Users/odl_user_276857/',  \n",
    "                  script='train.py',  # Your training script\n",
    "                  compute_target= 'MLprojcluster')\n"
   ]
  },
  {
   "cell_type": "code",
   "execution_count": 6,
   "id": "ee8bf43e-3df2-4c27-925c-6bef718d3075",
   "metadata": {},
   "outputs": [
    {
     "name": "stderr",
     "output_type": "stream",
     "text": [
      "For best results with Bayesian Sampling we recommend using a maximum number of runs greater than or equal to 20 times the number of hyperparameters being tuned. Recommendend value:40.\n"
     ]
    }
   ],
   "source": [
    "\n",
    "hyperdrive_config = HyperDriveConfig(\n",
    "    estimator= est,  # Your script run configuration\n",
    "    hyperparameter_sampling= param_sampling,\n",
    "    #policy=policy,  # Include the early stopping policy\n",
    "    primary_metric_name='Accuracy',  # Metric to optimize\n",
    "    primary_metric_goal=PrimaryMetricGoal.MAXIMIZE,  # Goal to optimize\n",
    "    max_total_runs=20,  # Total number of runs\n",
    "    max_concurrent_runs=4, # Number of concurrent runs\n",
    ")"
   ]
  },
  {
   "cell_type": "code",
   "execution_count": 7,
   "id": "609835aa-ad54-4245-9bd3-cec0ba970013",
   "metadata": {},
   "outputs": [],
   "source": [
    "ws = Workspace.from_config('quick-starts-ws-276857')"
   ]
  },
  {
   "cell_type": "code",
   "execution_count": 8,
   "id": "85cf1306-e2a4-4d86-bb5b-cf50e95c3741",
   "metadata": {},
   "outputs": [],
   "source": [
    "exp = Experiment(ws,name='Hyper_exp')"
   ]
  },
  {
   "cell_type": "code",
   "execution_count": 9,
   "id": "38da1b61-7f28-4b65-8ba6-33495448bffb",
   "metadata": {},
   "outputs": [
    {
     "ename": "AttributeError",
     "evalue": "'ScriptRunConfig' object has no attribute '_compute_target'",
     "output_type": "error",
     "traceback": [
      "\u001b[0;31m---------------------------------------------------------------------------\u001b[0m",
      "\u001b[0;31mAttributeError\u001b[0m                            Traceback (most recent call last)",
      "Cell \u001b[0;32mIn[9], line 1\u001b[0m\n\u001b[0;32m----> 1\u001b[0m hdr \u001b[38;5;241m=\u001b[39m \u001b[43mexp\u001b[49m\u001b[38;5;241;43m.\u001b[39;49m\u001b[43msubmit\u001b[49m\u001b[43m(\u001b[49m\u001b[43mconfig\u001b[49m\u001b[38;5;241;43m=\u001b[39;49m\u001b[43mhyperdrive_config\u001b[49m\u001b[43m,\u001b[49m\u001b[43m \u001b[49m\u001b[43mshow_output\u001b[49m\u001b[38;5;241;43m=\u001b[39;49m\u001b[38;5;28;43;01mTrue\u001b[39;49;00m\u001b[43m)\u001b[49m\n",
      "File \u001b[0;32m/anaconda/envs/azureml_py38/lib/python3.10/site-packages/azureml/core/experiment.py:238\u001b[0m, in \u001b[0;36mExperiment.submit\u001b[0;34m(self, config, tags, **kwargs)\u001b[0m\n\u001b[1;32m    236\u001b[0m submit_func \u001b[38;5;241m=\u001b[39m get_experiment_submit(config)\n\u001b[1;32m    237\u001b[0m \u001b[38;5;28;01mwith\u001b[39;00m \u001b[38;5;28mself\u001b[39m\u001b[38;5;241m.\u001b[39m_log_context(\u001b[38;5;124m\"\u001b[39m\u001b[38;5;124msubmit config \u001b[39m\u001b[38;5;132;01m{}\u001b[39;00m\u001b[38;5;124m\"\u001b[39m\u001b[38;5;241m.\u001b[39mformat(config\u001b[38;5;241m.\u001b[39m\u001b[38;5;18m__class__\u001b[39m\u001b[38;5;241m.\u001b[39m\u001b[38;5;18m__name__\u001b[39m)):\n\u001b[0;32m--> 238\u001b[0m     run \u001b[38;5;241m=\u001b[39m \u001b[43msubmit_func\u001b[49m\u001b[43m(\u001b[49m\u001b[43mconfig\u001b[49m\u001b[43m,\u001b[49m\u001b[43m \u001b[49m\u001b[38;5;28;43mself\u001b[39;49m\u001b[38;5;241;43m.\u001b[39;49m\u001b[43mworkspace\u001b[49m\u001b[43m,\u001b[49m\u001b[43m \u001b[49m\u001b[38;5;28;43mself\u001b[39;49m\u001b[38;5;241;43m.\u001b[39;49m\u001b[43mname\u001b[49m\u001b[43m,\u001b[49m\u001b[43m \u001b[49m\u001b[38;5;241;43m*\u001b[39;49m\u001b[38;5;241;43m*\u001b[39;49m\u001b[43mkwargs\u001b[49m\u001b[43m)\u001b[49m\n\u001b[1;32m    239\u001b[0m \u001b[38;5;28;01mif\u001b[39;00m tags \u001b[38;5;129;01mis\u001b[39;00m \u001b[38;5;129;01mnot\u001b[39;00m \u001b[38;5;28;01mNone\u001b[39;00m:\n\u001b[1;32m    240\u001b[0m     run\u001b[38;5;241m.\u001b[39mset_tags(tags)\n",
      "File \u001b[0;32m/anaconda/envs/azureml_py38/lib/python3.10/site-packages/azureml/train/hyperdrive/_search.py:99\u001b[0m, in \u001b[0;36msearch\u001b[0;34m(hyperdrive_config, workspace, experiment_name, **kwargs)\u001b[0m\n\u001b[1;32m     97\u001b[0m compute_target \u001b[38;5;241m=\u001b[39m \u001b[38;5;28;01mNone\u001b[39;00m\n\u001b[1;32m     98\u001b[0m \u001b[38;5;28;01mif\u001b[39;00m hyperdrive_config\u001b[38;5;241m.\u001b[39mestimator \u001b[38;5;129;01mis\u001b[39;00m \u001b[38;5;129;01mnot\u001b[39;00m \u001b[38;5;28;01mNone\u001b[39;00m:\n\u001b[0;32m---> 99\u001b[0m     compute_target \u001b[38;5;241m=\u001b[39m \u001b[43mhyperdrive_config\u001b[49m\u001b[38;5;241;43m.\u001b[39;49m\u001b[43mestimator\u001b[49m\u001b[38;5;241;43m.\u001b[39;49m\u001b[43m_compute_target\u001b[49m\n\u001b[1;32m    100\u001b[0m \u001b[38;5;28;01mif\u001b[39;00m _should_extract_compute_target(hyperdrive_config):\n\u001b[1;32m    101\u001b[0m     compute_target \u001b[38;5;241m=\u001b[39m ComputeTarget(workspace\u001b[38;5;241m=\u001b[39mworkspace, name\u001b[38;5;241m=\u001b[39mhyperdrive_config\u001b[38;5;241m.\u001b[39mrun_config\u001b[38;5;241m.\u001b[39mrun_config\u001b[38;5;241m.\u001b[39mtarget)\n",
      "\u001b[0;31mAttributeError\u001b[0m: 'ScriptRunConfig' object has no attribute '_compute_target'"
     ]
    }
   ],
   "source": [
    "hdr = exp.submit(config=hyperdrive_config, show_output=True)"
   ]
  },
  {
   "cell_type": "code",
   "execution_count": 10,
   "id": "a6914f0b-e732-4aac-b6a0-19a0bdb85226",
   "metadata": {},
   "outputs": [
    {
     "ename": "NameError",
     "evalue": "name 'RunDetails' is not defined",
     "output_type": "error",
     "traceback": [
      "\u001b[0;31m---------------------------------------------------------------------------\u001b[0m",
      "\u001b[0;31mNameError\u001b[0m                                 Traceback (most recent call last)",
      "Cell \u001b[0;32mIn[10], line 1\u001b[0m\n\u001b[0;32m----> 1\u001b[0m \u001b[43mRunDetails\u001b[49m(hdr)\u001b[38;5;241m.\u001b[39mshow()\n",
      "\u001b[0;31mNameError\u001b[0m: name 'RunDetails' is not defined"
     ]
    }
   ],
   "source": [
    "RunDetails(hdr).show()"
   ]
  },
  {
   "cell_type": "code",
   "execution_count": null,
   "id": "39b56818-68af-4dbc-a00f-629db35e9962",
   "metadata": {},
   "outputs": [],
   "source": [
    "best_run = hyperdrive_run.get_best_run_by_primary_metric()\n",
    "best_run_metrics = best_run.get_metrics()\n",
    "parameter_values = best_run.get_details()['runDefinition']['Arguments']"
   ]
  },
  {
   "cell_type": "code",
   "execution_count": null,
   "id": "fab3767c-ce6b-4d25-9b4b-691badc14bd1",
   "metadata": {},
   "outputs": [],
   "source": []
  }
 ],
 "metadata": {
  "kernelspec": {
   "display_name": "Python 3.8 - AzureML",
   "language": "python",
   "name": "python38-azureml"
  },
  "language_info": {
   "codemirror_mode": {
    "name": "ipython",
    "version": 3
   },
   "file_extension": ".py",
   "mimetype": "text/x-python",
   "name": "python",
   "nbconvert_exporter": "python",
   "pygments_lexer": "ipython3",
   "version": "3.10.11"
  }
 },
 "nbformat": 4,
 "nbformat_minor": 5
}
